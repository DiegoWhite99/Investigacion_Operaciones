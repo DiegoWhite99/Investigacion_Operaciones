{
 "cells": [
  {
   "cell_type": "markdown",
   "id": "b136f79c",
   "metadata": {},
   "source": [
    "IMPORTACION DE LIBRERIAS\n"
   ]
  },
  {
   "cell_type": "code",
   "execution_count": 1,
   "id": "03343913",
   "metadata": {},
   "outputs": [
    {
     "name": "stderr",
     "output_type": "stream",
     "text": [
      "Matplotlib is building the font cache; this may take a moment.\n"
     ]
    }
   ],
   "source": [
    "import pandas as pd\n",
    "import numpy as np\n",
    "import matplotlib.pyplot as plt\n",
    "import seaborn as sns"
   ]
  },
  {
   "cell_type": "markdown",
   "id": "6934a85d",
   "metadata": {},
   "source": [
    "Configuracion de Gaficos"
   ]
  },
  {
   "cell_type": "code",
   "execution_count": null,
   "id": "17d1420b",
   "metadata": {},
   "outputs": [],
   "source": [
    "plt.style.use('default')\n",
    "sns.set_palette(\"huls\")"
   ]
  }
 ],
 "metadata": {
  "kernelspec": {
   "display_name": "Python 3",
   "language": "python",
   "name": "python3"
  },
  "language_info": {
   "codemirror_mode": {
    "name": "ipython",
    "version": 3
   },
   "file_extension": ".py",
   "mimetype": "text/x-python",
   "name": "python",
   "nbconvert_exporter": "python",
   "pygments_lexer": "ipython3",
   "version": "3.11.9"
  }
 },
 "nbformat": 4,
 "nbformat_minor": 5
}
