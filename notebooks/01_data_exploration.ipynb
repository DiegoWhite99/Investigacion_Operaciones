{
 "cells": [
  {
   "cell_type": "markdown",
   "id": "fd434f5a",
   "metadata": {},
   "source": [
    "Conexion de Pandas Y Numpi\n",
    "\n"
   ]
  },
  {
   "cell_type": "code",
   "execution_count": 27,
   "id": "59354fc2",
   "metadata": {},
   "outputs": [],
   "source": [
    "import pandas as pd\n",
    "import numpy as np\n"
   ]
  },
  {
   "cell_type": "markdown",
   "id": "2f504f34",
   "metadata": {},
   "source": [
    "Cargar datos\n"
   ]
  },
  {
   "cell_type": "code",
   "execution_count": 28,
   "id": "a5046a71",
   "metadata": {},
   "outputs": [
    {
     "name": "stdout",
     "output_type": "stream",
     "text": [
      "Dimensión de los datos:\n",
      "Jobs: (30, 7)\n",
      "Técnicos: (6, 7)\n",
      "Habilidades: (150, 3)\n"
     ]
    }
   ],
   "source": [
    "jobs = pd.read_excel(\"../data/raw/Jobs.xlsx\")\n",
    "tecnicos = pd.read_excel(\"../data/raw/Tecnicos.xlsx\")\n",
    "habilidades = pd.read_excel(\"../data/raw/Habilidades.xlsx\")\n",
    "\n",
    "print(\"Dimensión de los datos:\")\n",
    "print(f\"Jobs: {jobs.shape}\")\n",
    "print(f\"Técnicos: {tecnicos.shape}\")\n",
    "print(f\"Habilidades: {habilidades.shape}\")"
   ]
  },
  {
   "cell_type": "markdown",
   "id": "addff007",
   "metadata": {},
   "source": [
    "Verificacion de colmunas reales de cada archivo\n"
   ]
  },
  {
   "cell_type": "code",
   "execution_count": 29,
   "id": "8d9ba861",
   "metadata": {},
   "outputs": [
    {
     "name": "stdout",
     "output_type": "stream",
     "text": [
      "\n",
      "Columnas de Jobs: ['id_job', 'descripcion', 'duracion_horas', 'deadline', 'skill_requerida', 'prioridad', 'ubicacion']\n",
      "Columnas de Técnicos: ['Id_tecnico', 'nombre', 'skills', 'horario inicio', 'horario fin', 'capacidad_diaria_h', 'ubicación_base']\n",
      "Columnas de Habilidades: ['id_job', 'id_tecnico', 'compatible']\n"
     ]
    }
   ],
   "source": [
    "print(\"\\nColumnas de Jobs:\", jobs.columns.tolist())\n",
    "print(\"Columnas de Técnicos:\", tecnicos.columns.tolist())\n",
    "print(\"Columnas de Habilidades:\", habilidades.columns.tolist())"
   ]
  },
  {
   "cell_type": "markdown",
   "id": "38764485",
   "metadata": {},
   "source": [
    "Limpieza del archivo JOBS"
   ]
  },
  {
   "cell_type": "code",
   "execution_count": 31,
   "id": "211ad1db",
   "metadata": {},
   "outputs": [],
   "source": [
    "jobs['duracion_horas'] = pd.to_numeric(jobs['duracion_horas'], errors='coerce')\n",
    "jobs['deadline'] = pd.to_datetime(jobs['deadline'])\n",
    "jobs['skill_requerida'] = jobs['skill_requerida'].str.strip().str.lower()"
   ]
  },
  {
   "cell_type": "markdown",
   "id": "93a0bc40",
   "metadata": {},
   "source": [
    "Limpieza de tecnicos"
   ]
  },
  {
   "cell_type": "code",
   "execution_count": 32,
   "id": "07ccc5af",
   "metadata": {},
   "outputs": [],
   "source": [
    "if 'horario_inicio' not in tecnicos.columns:\n",
    "    tecnicos['horario_inicio'] = '08:00'\n",
    "if 'horario_fin' not in tecnicos.columns:\n",
    "    tecnicos['horario_fin'] = '17:00'\n",
    "if 'capacidad_diaria_h' not in tecnicos.columns:\n",
    "    tecnicos['capacidad_diaria_h'] = 8\n",
    "if 'ubicacion_base' not in tecnicos.columns:\n",
    "    tecnicos['ubicacion_base'] = 'Zona Centro'"
   ]
  },
  {
   "cell_type": "markdown",
   "id": "6ae671ed",
   "metadata": {},
   "source": [
    "Conversion de horario"
   ]
  },
  {
   "cell_type": "code",
   "execution_count": null,
   "id": "bdd2af75",
   "metadata": {},
   "outputs": [],
   "source": [
    "tecnicos['horario_inicio'] = pd.to_datetime(tecnicos['horario_inicio'], format='%H:%M', errors='coerce').dt.time\n",
    "tecnicos['horario_fin'] = pd.to_datetime(tecnicos['horario_fin'], format='%H:%M', errors='coerce').dt.time"
   ]
  }
 ],
 "metadata": {
  "kernelspec": {
   "display_name": "venv",
   "language": "python",
   "name": "python3"
  },
  "language_info": {
   "codemirror_mode": {
    "name": "ipython",
    "version": 3
   },
   "file_extension": ".py",
   "mimetype": "text/x-python",
   "name": "python",
   "nbconvert_exporter": "python",
   "pygments_lexer": "ipython3",
   "version": "3.11.9"
  }
 },
 "nbformat": 4,
 "nbformat_minor": 5
}
