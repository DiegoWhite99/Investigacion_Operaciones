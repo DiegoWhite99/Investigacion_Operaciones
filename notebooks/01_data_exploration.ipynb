{
 "cells": [
  {
   "cell_type": "markdown",
   "id": "fd434f5a",
   "metadata": {},
   "source": [
    "Conexion de Pandas Y Numpi\n",
    "\n"
   ]
  },
  {
   "cell_type": "code",
   "execution_count": 1,
   "id": "59354fc2",
   "metadata": {},
   "outputs": [],
   "source": [
    "import pandas as pd\n",
    "import numpy as np\n"
   ]
  },
  {
   "cell_type": "markdown",
   "id": "2f504f34",
   "metadata": {},
   "source": [
    "Cargar datos\n"
   ]
  },
  {
   "cell_type": "code",
   "execution_count": 2,
   "id": "a5046a71",
   "metadata": {},
   "outputs": [
    {
     "name": "stdout",
     "output_type": "stream",
     "text": [
      "Dimensión de los datos:\n",
      "Jobs: (30, 7)\n",
      "Técnicos: (6, 7)\n",
      "Habilidades: (150, 3)\n"
     ]
    }
   ],
   "source": [
    "jobs = pd.read_excel(\"../data/raw/Jobs.xlsx\")\n",
    "tecnicos = pd.read_excel(\"../data/raw/Tecnicos.xlsx\")\n",
    "habilidades = pd.read_excel(\"../data/raw/Habilidades.xlsx\")\n",
    "\n",
    "print(\"Dimensión de los datos:\")\n",
    "print(f\"Jobs: {jobs.shape}\")\n",
    "print(f\"Técnicos: {tecnicos.shape}\")\n",
    "print(f\"Habilidades: {habilidades.shape}\")"
   ]
  },
  {
   "cell_type": "markdown",
   "id": "addff007",
   "metadata": {},
   "source": [
    "Verificacion de colmunas reales de cada archivo\n"
   ]
  },
  {
   "cell_type": "code",
   "execution_count": 3,
   "id": "8d9ba861",
   "metadata": {},
   "outputs": [
    {
     "name": "stdout",
     "output_type": "stream",
     "text": [
      "\n",
      "Columnas de Jobs: ['id_job', 'descripcion', 'duracion_horas', 'deadline', 'skill_requerida', 'prioridad', 'ubicacion']\n",
      "Columnas de Técnicos: ['Id_tecnico', 'nombre', 'skills', 'horario inicio', 'horario fin', 'capacidad_diaria_h', 'ubicación_base']\n",
      "Columnas de Habilidades: ['id_job', 'id_tecnico', 'compatible']\n"
     ]
    }
   ],
   "source": [
    "print(\"\\nColumnas de Jobs:\", jobs.columns.tolist())\n",
    "print(\"Columnas de Técnicos:\", tecnicos.columns.tolist())\n",
    "print(\"Columnas de Habilidades:\", habilidades.columns.tolist())"
   ]
  },
  {
   "cell_type": "markdown",
   "id": "38764485",
   "metadata": {},
   "source": [
    "Limpieza del archivo JOBS"
   ]
  },
  {
   "cell_type": "code",
   "execution_count": 4,
   "id": "211ad1db",
   "metadata": {},
   "outputs": [],
   "source": [
    "jobs['duracion_horas'] = pd.to_numeric(jobs['duracion_horas'], errors='coerce')\n",
    "jobs['deadline'] = pd.to_datetime(jobs['deadline'])\n",
    "jobs['skill_requerida'] = jobs['skill_requerida'].str.strip().str.lower()"
   ]
  },
  {
   "cell_type": "markdown",
   "id": "93a0bc40",
   "metadata": {},
   "source": [
    "Limpieza de tecnicos"
   ]
  },
  {
   "cell_type": "code",
   "execution_count": 5,
   "id": "07ccc5af",
   "metadata": {},
   "outputs": [],
   "source": [
    "if 'horario_inicio' not in tecnicos.columns:\n",
    "    tecnicos['horario_inicio'] = '08:00'\n",
    "if 'horario_fin' not in tecnicos.columns:\n",
    "    tecnicos['horario_fin'] = '17:00'\n",
    "if 'capacidad_diaria_h' not in tecnicos.columns:\n",
    "    tecnicos['capacidad_diaria_h'] = 8\n",
    "if 'ubicacion_base' not in tecnicos.columns:\n",
    "    tecnicos['ubicacion_base'] = 'Zona Centro'"
   ]
  },
  {
   "cell_type": "markdown",
   "id": "6ae671ed",
   "metadata": {},
   "source": [
    "Conversion de horario"
   ]
  },
  {
   "cell_type": "code",
   "execution_count": 6,
   "id": "bdd2af75",
   "metadata": {},
   "outputs": [],
   "source": [
    "tecnicos['horario_inicio'] = pd.to_datetime(tecnicos['horario_inicio'], format='%H:%M', errors='coerce').dt.time\n",
    "tecnicos['horario_fin'] = pd.to_datetime(tecnicos['horario_fin'], format='%H:%M', errors='coerce').dt.time"
   ]
  },
  {
   "cell_type": "markdown",
   "id": "e95e5d0a",
   "metadata": {},
   "source": [
    "Limpieza de habilidades"
   ]
  },
  {
   "cell_type": "code",
   "execution_count": 7,
   "id": "ea28fae3",
   "metadata": {},
   "outputs": [],
   "source": [
    "habilidades = habilidades.astype({'compatible': int})"
   ]
  },
  {
   "cell_type": "markdown",
   "id": "3cbbc70a",
   "metadata": {},
   "source": [
    "guardar datos limpios"
   ]
  },
  {
   "cell_type": "code",
   "execution_count": 8,
   "id": "4abd42b0",
   "metadata": {},
   "outputs": [
    {
     "name": "stdout",
     "output_type": "stream",
     "text": [
      "\n",
      "Limpieza completada. Datos guardados en data/clean/\n",
      "\n",
      "Resumen de datos:\n",
      "Jobs: 30 trabajos\n",
      "Técnicos: 6 técnicos\n",
      "Compatibilidades: 150 registros\n",
      "\n",
      "Primeros 3 trabajos:\n",
      "  id_job                 descripcion  duracion_horas   deadline  \\\n",
      "0     J1        Cambio de disco duro               2 2025-09-10   \n",
      "1     J2  Actualización de antivirus               1 2025-09-08   \n",
      "2     J3         Limpieza interna PC               3 2025-09-12   \n",
      "\n",
      "         skill_requerida prioridad   ubicacion  \n",
      "0               hardware      Alta  Zona Norte  \n",
      "1               software     Media    Zona Sur  \n",
      "2  diagnóstico eléctrico      Baja   Zona Este  \n",
      "\n",
      "Todos los técnicos:\n",
      "  Id_tecnico            nombre  \\\n",
      "0         T1  Carlos Rodriguez   \n",
      "1         T2         Ana Gomez   \n",
      "2         T3     Luis Martinez   \n",
      "3         T4   Maria Hernandez   \n",
      "4         T5       Jorge Perez   \n",
      "5         T6  Sebastian Ospina   \n",
      "\n",
      "                                              skills horario inicio  \\\n",
      "0              Hardware,Software,Sistemas operativos       08:00:00   \n",
      "1         Redes,Seguridad informática,Soporte remoto       09:00:00   \n",
      "2  Diagnóstico eléctrico,Cableado estructurado,Ha...       08:30:00   \n",
      "3  Virtualización,Backup y recuperación,Sistemas ...       08:00:00   \n",
      "4                      Software,Soporte remoto,Redes       09:00:00   \n",
      "5  Desarrollador .net, AWS,dockerts,kubernetes,Ca...       10:00:00   \n",
      "\n",
      "  horario fin  capacidad_diaria_h ubicación_base horario_inicio horario_fin  \\\n",
      "0    17:30:00                   8     zona norte       08:00:00    17:00:00   \n",
      "1    18:00:00                   7       zona sur       08:00:00    17:00:00   \n",
      "2    17:45:00                   8      zona este       08:00:00    17:00:00   \n",
      "3    17:30:00                   8     zona oeste       08:00:00    17:00:00   \n",
      "4    18:00:00                   8    zona centro       08:00:00    17:00:00   \n",
      "5    20:00:00                  15    zona centro       08:00:00    17:00:00   \n",
      "\n",
      "  ubicacion_base  \n",
      "0    Zona Centro  \n",
      "1    Zona Centro  \n",
      "2    Zona Centro  \n",
      "3    Zona Centro  \n",
      "4    Zona Centro  \n",
      "5    Zona Centro  \n",
      "\n",
      "Primeras 10 compatibilidades:\n",
      "  id_job id_tecnico  compatible\n",
      "0     J1         T1           1\n",
      "1     J1         T2           0\n",
      "2     J1         T3           1\n",
      "3     J1         T4           0\n",
      "4     J1         T5           0\n",
      "5     J2         T1           1\n",
      "6     J2         T2           0\n",
      "7     J2         T3           0\n",
      "8     J2         T4           0\n",
      "9     J2         T5           1\n"
     ]
    }
   ],
   "source": [
    "jobs.to_csv(\"../data/clean/jobs_clean.csv\", index=False)\n",
    "tecnicos.to_csv(\"../data/clean/tecnicos_clean.csv\", index=False)\n",
    "habilidades.to_csv(\"../data/clean/habilidades_clean.csv\", index=False)\n",
    "\n",
    "print(\"\\nLimpieza completada. Datos guardados en data/clean/\")\n",
    "print(\"\\nResumen de datos:\")\n",
    "print(f\"Jobs: {len(jobs)} trabajos\")\n",
    "print(f\"Técnicos: {len(tecnicos)} técnicos\")\n",
    "print(f\"Compatibilidades: {len(habilidades)} registros\")\n",
    "\n",
    "# Mostrar primeros registros\n",
    "print(\"\\nPrimeros 3 trabajos:\")\n",
    "print(jobs.head(3))\n",
    "print(\"\\nTodos los técnicos:\")\n",
    "print(tecnicos)\n",
    "print(\"\\nPrimeras 10 compatibilidades:\")\n",
    "print(habilidades.head(10))"
   ]
  },
  {
   "cell_type": "markdown",
   "id": "767ee349",
   "metadata": {},
   "source": [
    "Creacion de matriz de distacia"
   ]
  },
  {
   "cell_type": "code",
   "execution_count": 9,
   "id": "71c62f40",
   "metadata": {},
   "outputs": [
    {
     "name": "stdout",
     "output_type": "stream",
     "text": [
      "Matriz de distancias creada\n"
     ]
    }
   ],
   "source": [
    "zonas = ['Zona Norte', 'Zona Sur', 'Zona Este', 'Zona Oeste', 'Zona Centro']\n",
    "distancias_data = []\n",
    "\n",
    "for origen in zonas:\n",
    "    for destino in zonas:\n",
    "        if origen == destino:\n",
    "            tiempo = 5\n",
    "        else:\n",
    "            # Tiempos aleatorios entre 15-45 minutos\n",
    "            tiempo = np.random.randint(15, 46)\n",
    "        distancias_data.append({'origen': origen, 'destino': destino, 'tiempo_viaje_min': tiempo})\n",
    "\n",
    "distancias_df = pd.DataFrame(distancias_data)\n",
    "distancias_df.to_excel(\"../data/raw/Distancias.xlsx\", index=False)\n",
    "print(\"Matriz de distancias creada\")"
   ]
  }
 ],
 "metadata": {
  "kernelspec": {
   "display_name": "Python 3",
   "language": "python",
   "name": "python3"
  },
  "language_info": {
   "codemirror_mode": {
    "name": "ipython",
    "version": 3
   },
   "file_extension": ".py",
   "mimetype": "text/x-python",
   "name": "python",
   "nbconvert_exporter": "python",
   "pygments_lexer": "ipython3",
   "version": "3.11.9"
  }
 },
 "nbformat": 4,
 "nbformat_minor": 5
}
