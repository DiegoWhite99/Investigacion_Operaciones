{
 "cells": [
  {
   "cell_type": "markdown",
   "id": "1f497898",
   "metadata": {},
   "source": [
    "########## INICIO FASE 7 ##############"
   ]
  },
  {
   "cell_type": "markdown",
   "id": "341ce988",
   "metadata": {},
   "source": [
    "Librerias\n"
   ]
  },
  {
   "cell_type": "code",
   "execution_count": 1,
   "id": "0e3428c1",
   "metadata": {},
   "outputs": [],
   "source": [
    "import pandas as pd\n",
    "import numpy as np\n",
    "import matplotlib.pyplot as plt\n",
    "import seaborn as sns\n",
    "from datetime import datetime\n",
    "import pulp\n",
    "import os"
   ]
  },
  {
   "cell_type": "markdown",
   "id": "4252348e",
   "metadata": {},
   "source": [
    "Configuraciones\n"
   ]
  },
  {
   "cell_type": "code",
   "execution_count": 2,
   "id": "b38f595b",
   "metadata": {},
   "outputs": [],
   "source": [
    "plt.style.use('default')\n",
    "sns.set_palette(\"Set2\")\n",
    "BASE_DIR = os.path.dirname(os.getcwd())"
   ]
  },
  {
   "cell_type": "code",
   "execution_count": 3,
   "id": "dbee8bc2",
   "metadata": {},
   "outputs": [
    {
     "name": "stdout",
     "output_type": "stream",
     "text": [
      "=== ANÁLISIS DE SENSIBILIDAD Y COMPARACIÓN ===\n",
      "Ejecutado: 2025-09-06 21:49:25.979741\n"
     ]
    }
   ],
   "source": [
    "print(\"=== ANÁLISIS DE SENSIBILIDAD Y COMPARACIÓN ===\")\n",
    "print(f\"Ejecutado: {datetime.now()}\")"
   ]
  },
  {
   "cell_type": "markdown",
   "id": "9c8250e8",
   "metadata": {},
   "source": [
    "FUNCION PARA MEJORAR NOMBRE DE COLUMNAS"
   ]
  },
  {
   "cell_type": "code",
   "execution_count": 4,
   "id": "9cebb3d6",
   "metadata": {},
   "outputs": [],
   "source": [
    "def obtener_nombre_columna(df, nombres_posibles):\n",
    "    \"\"\"Obtener el nombre correcto de la columna\"\"\"\n",
    "    for nombre in nombres_posibles:\n",
    "        if nombre in df.columns:\n",
    "            return nombre\n",
    "    return None"
   ]
  },
  {
   "cell_type": "markdown",
   "id": "994f24bc",
   "metadata": {},
   "source": [
    "CARGANDO DATOS EXISTENTES"
   ]
  },
  {
   "cell_type": "markdown",
   "id": "5c2a301d",
   "metadata": {},
   "source": [
    "CARGA DE DATOS"
   ]
  },
  {
   "cell_type": "code",
   "execution_count": 5,
   "id": "cb162d84",
   "metadata": {},
   "outputs": [],
   "source": [
    "results_path = os.path.join(BASE_DIR, \"results\", \"assignment_results.csv\")\n",
    "schedule_path = os.path.join(BASE_DIR, \"results\", \"schedule_detailed.csv\")\n",
    "\n",
    "asignaciones_base = pd.read_csv(results_path)\n",
    "schedule_base = pd.read_csv(schedule_path) if os.path.exists(schedule_path) else None"
   ]
  },
  {
   "cell_type": "markdown",
   "id": "a7352e55",
   "metadata": {},
   "source": [
    "OBTENER NOMBRES DE COLUMNAS CORRECTOS"
   ]
  },
  {
   "cell_type": "code",
   "execution_count": 6,
   "id": "1e0a4319",
   "metadata": {},
   "outputs": [
    {
     "name": "stdout",
     "output_type": "stream",
     "text": [
      "Asignaciones base: 30 trabajos\n",
      "Columna técnico: id_tecnico\n",
      "Columna job: job_id\n",
      "Horario base: 30 trabajos planificados\n"
     ]
    }
   ],
   "source": [
    "col_tecnico_asign = obtener_nombre_columna(asignaciones_base, ['Id_tecnico', 'id_tecnico', 'tecnico_id'])\n",
    "col_job_asign = obtener_nombre_columna(asignaciones_base, ['job_id', 'id_job'])\n",
    "\n",
    "print(f\"Asignaciones base: {len(asignaciones_base)} trabajos\")\n",
    "print(f\"Columna técnico: {col_tecnico_asign}\")\n",
    "print(f\"Columna job: {col_job_asign}\")\n",
    "\n",
    "if schedule_base is not None:\n",
    "    print(f\"Horario base: {len(schedule_base)} trabajos planificados\")"
   ]
  },
  {
   "cell_type": "markdown",
   "id": "9d59977c",
   "metadata": {},
   "source": [
    "ANALISIS DE SENSIBILIDAD"
   ]
  },
  {
   "cell_type": "code",
   "execution_count": 7,
   "id": "1625595a",
   "metadata": {},
   "outputs": [],
   "source": [
    "def analizar_sensibilidad_duraciones(variacion_percent):\n",
    "    \"\"\"Analizar sensibilidad a cambios en duraciones\"\"\"\n",
    "    print(f\"\\n🔍 SENSIBILIDAD: Duraciones ±{variacion_percent}%\")\n",
    "    \n",
    "    # Cargar datos originales\n",
    "    jobs = pd.read_csv(os.path.join(BASE_DIR, \"data\", \"clean\", \"jobs_clean.csv\"))\n",
    "    tecnicos = pd.read_csv(os.path.join(BASE_DIR, \"data\", \"clean\", \"tecnicos_clean.csv\"))\n",
    "    \n",
    "    # Obtener nombres de columnas\n",
    "    col_tecnico_tec = obtener_nombre_columna(tecnicos, ['Id_tecnico', 'id_tecnico', 'tecnico_id'])\n",
    "    \n",
    "    # Aplicar variación\n",
    "    jobs_mod = jobs.copy()\n",
    "    factor = 1 + (variacion_percent / 100) * np.random.choice([1, -1], size=len(jobs))\n",
    "    jobs_mod['duracion_horas'] = jobs_mod['duracion_horas'] * factor\n",
    "    \n",
    "    # Calcular nueva demanda\n",
    "    demanda_original = jobs['duracion_horas'].sum()\n",
    "    demanda_mod = jobs_mod['duracion_horas'].sum()\n",
    "    capacidad_total = tecnicos['capacidad_diaria_h'].sum() * 7\n",
    "    \n",
    "    resultado = {\n",
    "        'variacion': variacion_percent,\n",
    "        'demanda_original': demanda_original,\n",
    "        'demanda_modificada': demanda_mod,\n",
    "        'capacidad_total': capacidad_total,\n",
    "        'diferencia_absoluta': abs(demanda_mod - demanda_original),\n",
    "        'diferencia_porcentual': ((demanda_mod - demanda_original) / demanda_original) * 100,\n",
    "        'utilizacion_original': (demanda_original / capacidad_total) * 100,\n",
    "        'utilizacion_modificada': (demanda_mod / capacidad_total) * 100\n",
    "    }\n",
    "    \n",
    "    print(f\"   Demanda original: {demanda_original:.1f}h\")\n",
    "    print(f\"   Demanda modificada: {demanda_mod:.1f}h\")\n",
    "    print(f\"   Diferencia: {resultado['diferencia_porcentual']:+.1f}%\")\n",
    "    print(f\"   Utilización: {resultado['utilizacion_original']:.1f}% → {resultado['utilizacion_modificada']:.1f}%\")\n",
    "    \n",
    "    return resultado\n"
   ]
  },
  {
   "cell_type": "markdown",
   "id": "3933d23f",
   "metadata": {},
   "source": [
    "Probar diferentes variaciones"
   ]
  },
  {
   "cell_type": "code",
   "execution_count": 8,
   "id": "41cac95c",
   "metadata": {},
   "outputs": [
    {
     "name": "stdout",
     "output_type": "stream",
     "text": [
      "\n",
      "🔍 SENSIBILIDAD: Duraciones ±-20%\n",
      "   Demanda original: 92.0h\n",
      "   Demanda modificada: 98.8h\n",
      "   Diferencia: +7.4%\n",
      "   Utilización: 24.3% → 26.1%\n",
      "\n",
      "🔍 SENSIBILIDAD: Duraciones ±-10%\n",
      "   Demanda original: 92.0h\n",
      "   Demanda modificada: 95.0h\n",
      "   Diferencia: +3.3%\n",
      "   Utilización: 24.3% → 25.1%\n",
      "\n",
      "🔍 SENSIBILIDAD: Duraciones ±0%\n",
      "   Demanda original: 92.0h\n",
      "   Demanda modificada: 92.0h\n",
      "   Diferencia: +0.0%\n",
      "   Utilización: 24.3% → 24.3%\n",
      "\n",
      "🔍 SENSIBILIDAD: Duraciones ±10%\n",
      "   Demanda original: 92.0h\n",
      "   Demanda modificada: 90.6h\n",
      "   Diferencia: -1.5%\n",
      "   Utilización: 24.3% → 24.0%\n",
      "\n",
      "🔍 SENSIBILIDAD: Duraciones ±20%\n",
      "   Demanda original: 92.0h\n",
      "   Demanda modificada: 89.6h\n",
      "   Diferencia: -2.6%\n",
      "   Utilización: 24.3% → 23.7%\n"
     ]
    }
   ],
   "source": [
    "variaciones = [-20, -10, 0, 10, 20]\n",
    "resultados_sensibilidad = []\n",
    "\n",
    "for variacion in variaciones:\n",
    "    resultado = analizar_sensibilidad_duraciones(variacion)\n",
    "    resultados_sensibilidad.append(resultado)"
   ]
  },
  {
   "cell_type": "markdown",
   "id": "08efc5fd",
   "metadata": {},
   "source": [
    "Crear DataFrame de resultados"
   ]
  },
  {
   "cell_type": "code",
   "execution_count": 9,
   "id": "1f5ac9b7",
   "metadata": {},
   "outputs": [],
   "source": [
    "df_sensibilidad = pd.DataFrame(resultados_sensibilidad)\n",
    "df_sensibilidad.to_csv(os.path.join(BASE_DIR, \"results\", \"sensibilidad_duraciones.csv\"), index=False)"
   ]
  },
  {
   "cell_type": "markdown",
   "id": "8e42383f",
   "metadata": {},
   "source": [
    "3. Escenario: Ausencia de Técnico"
   ]
  },
  {
   "cell_type": "code",
   "execution_count": 10,
   "id": "11ce6dd9",
   "metadata": {},
   "outputs": [],
   "source": [
    "def simular_ausencia_tecnico(tecnico_ausente):\n",
    "    \"\"\"Simular ausencia de un técnico\"\"\"\n",
    "    print(f\"\\n🔍 ESCENARIO: Ausencia de técnico {tecnico_ausente}\")\n",
    "    \n",
    "    # Cargar datos\n",
    "    jobs = pd.read_csv(os.path.join(BASE_DIR, \"data\", \"clean\", \"jobs_clean.csv\"))\n",
    "    tecnicos = pd.read_csv(os.path.join(BASE_DIR, \"data\", \"clean\", \"tecnicos_clean.csv\"))\n",
    "    \n",
    "    # Obtener nombres de columnas\n",
    "    col_tecnico_tec = obtener_nombre_columna(tecnicos, ['Id_tecnico', 'id_tecnico', 'tecnico_id'])\n",
    "    col_tecnico_asign = obtener_nombre_columna(asignaciones_base, ['Id_tecnico', 'id_tecnico', 'tecnico_id'])\n",
    "    \n",
    "    # Filtrar técnicos disponibles\n",
    "    tecnicos_disponibles = tecnicos[tecnicos[col_tecnico_tec] != tecnico_ausente]\n",
    "    \n",
    "    # Encontrar trabajos asignados al técnico ausente\n",
    "    jobs_afectados = asignaciones_base[asignaciones_base[col_tecnico_asign] == tecnico_ausente]\n",
    "    \n",
    "    # Calcular impacto\n",
    "    capacidad_perdida = tecnicos[tecnicos[col_tecnico_tec] == tecnico_ausente]['capacidad_diaria_h'].values[0] * 7\n",
    "    horas_afectadas = jobs_afectados['duracion_horas'].sum() if 'duracion_horas' in jobs_afectados.columns else 0\n",
    "    \n",
    "    resultado = {\n",
    "        'tecnico_ausente': tecnico_ausente,\n",
    "        'capacidad_perdida_h': capacidad_perdida,\n",
    "        'trabajos_afectados': len(jobs_afectados),\n",
    "        'horas_afectadas': horas_afectadas,\n",
    "        'tecnicos_disponibles': len(tecnicos_disponibles),\n",
    "        'capacidad_restante': tecnicos_disponibles['capacidad_diaria_h'].sum() * 7\n",
    "    }\n",
    "    \n",
    "    print(f\"   Trabajos afectados: {resultado['trabajos_afectados']}\")\n",
    "    print(f\"   Horas afectadas: {resultado['horas_afectadas']:.1f}h\")\n",
    "    print(f\"   Capacidad perdida: {resultado['capacidad_perdida_h']:.1f}h\")\n",
    "    print(f\"   Capacidad restante: {resultado['capacidad_restante']:.1f}h\")\n",
    "    \n",
    "    return resultado"
   ]
  },
  {
   "cell_type": "markdown",
   "id": "899e398d",
   "metadata": {},
   "source": [
    "Probar ausencia de cada técnico"
   ]
  },
  {
   "cell_type": "code",
   "execution_count": 11,
   "id": "d9a3b551",
   "metadata": {},
   "outputs": [
    {
     "name": "stdout",
     "output_type": "stream",
     "text": [
      "\n",
      "🔍 ESCENARIO: Ausencia de técnico T1\n",
      "   Trabajos afectados: 5\n",
      "   Horas afectadas: 16.0h\n",
      "   Capacidad perdida: 56.0h\n",
      "   Capacidad restante: 322.0h\n",
      "\n",
      "🔍 ESCENARIO: Ausencia de técnico T2\n",
      "   Trabajos afectados: 4\n",
      "   Horas afectadas: 15.0h\n",
      "   Capacidad perdida: 49.0h\n",
      "   Capacidad restante: 329.0h\n",
      "\n",
      "🔍 ESCENARIO: Ausencia de técnico T3\n",
      "   Trabajos afectados: 6\n",
      "   Horas afectadas: 15.0h\n",
      "   Capacidad perdida: 56.0h\n",
      "   Capacidad restante: 322.0h\n",
      "\n",
      "🔍 ESCENARIO: Ausencia de técnico T4\n",
      "   Trabajos afectados: 3\n",
      "   Horas afectadas: 15.0h\n",
      "   Capacidad perdida: 56.0h\n",
      "   Capacidad restante: 322.0h\n",
      "\n",
      "🔍 ESCENARIO: Ausencia de técnico T5\n",
      "   Trabajos afectados: 8\n",
      "   Horas afectadas: 16.0h\n",
      "   Capacidad perdida: 56.0h\n",
      "   Capacidad restante: 322.0h\n"
     ]
    }
   ],
   "source": [
    "tecnicos_lista = ['T1', 'T2', 'T3', 'T4', 'T5']\n",
    "resultados_ausencia = []\n",
    "\n",
    "for tech in tecnicos_lista:\n",
    "    resultado = simular_ausencia_tecnico(tech)\n",
    "    resultados_ausencia.append(resultado)\n",
    "\n",
    "df_ausencia = pd.DataFrame(resultados_ausencia)\n",
    "df_ausencia.to_csv(os.path.join(BASE_DIR, \"results\", \"sensibilidad_ausencias.csv\"), index=False)"
   ]
  },
  {
   "cell_type": "markdown",
   "id": "20628e3c",
   "metadata": {},
   "source": [
    "4. Comparación con Métodos Baseline"
   ]
  },
  {
   "cell_type": "code",
   "execution_count": 12,
   "id": "e6220a94",
   "metadata": {},
   "outputs": [],
   "source": [
    "def asignacion_aleatoria(jobs, tecnicos, habilidades):\n",
    "    \"\"\"Asignación aleatoria respetando habilidades\"\"\"\n",
    "    asignaciones = []\n",
    "    \n",
    "    # Obtener nombres de columnas\n",
    "    col_tecnico_hab = obtener_nombre_columna(habilidades, ['id_tecnico', 'Id_tecnico', 'tecnico_id'])\n",
    "    col_job_hab = obtener_nombre_columna(habilidades, ['id_job', 'job_id'])\n",
    "    \n",
    "    for _, job in jobs.iterrows():\n",
    "        job_id = job['id_job']\n",
    "        \n",
    "        # Encontrar técnicos compatibles\n",
    "        techs_compatibles = habilidades[(habilidades[col_job_hab] == job_id) & \n",
    "                                      (habilidades['compatible'] == 1)][col_tecnico_hab].tolist()\n",
    "        \n",
    "        if techs_compatibles:\n",
    "            # Asignar aleatoriamente\n",
    "            tecnico_asignado = np.random.choice(techs_compatibles)\n",
    "            asignaciones.append({\n",
    "                'job_id': job_id,\n",
    "                'tecnico_id': tecnico_asignado,\n",
    "                'duracion_horas': job['duracion_horas']\n",
    "            })\n",
    "    \n",
    "    return pd.DataFrame(asignaciones)"
   ]
  },
  {
   "cell_type": "code",
   "execution_count": 13,
   "id": "30405a02",
   "metadata": {},
   "outputs": [],
   "source": [
    "def asignacion_greedy(jobs, tecnicos, habilidades):\n",
    "    \"\"\"Asignación greedy por prioridad\"\"\"\n",
    "    # Obtener nombres de columnas\n",
    "    col_tecnico_tec = obtener_nombre_columna(tecnicos, ['Id_tecnico', 'id_tecnico', 'tecnico_id'])\n",
    "    col_tecnico_hab = obtener_nombre_columna(habilidades, ['id_tecnico', 'Id_tecnico', 'tecnico_id'])\n",
    "    col_job_hab = obtener_nombre_columna(habilidades, ['id_job', 'job_id'])\n",
    "    \n",
    "    # Ordenar jobs por duración (más largos primero)\n",
    "    jobs_ordenados = jobs.sort_values('duracion_horas', ascending=False)\n",
    "    \n",
    "    asignaciones = []\n",
    "    carga_tecnicos = {tech: 0 for tech in tecnicos[col_tecnico_tec]}\n",
    "    \n",
    "    for _, job in jobs_ordenados.iterrows():\n",
    "        job_id = job['id_job']\n",
    "        \n",
    "        # Encontrar técnicos compatibles\n",
    "        techs_compatibles = habilidades[(habilidades[col_job_hab] == job_id) & \n",
    "                                      (habilidades['compatible'] == 1)][col_tecnico_hab].tolist()\n",
    "        \n",
    "        if techs_compatibles:\n",
    "            # Asignar al técnico con menor carga\n",
    "            techs_con_carga = [(tech, carga_tecnicos[tech]) for tech in techs_compatibles]\n",
    "            techs_con_carga.sort(key=lambda x: x[1])\n",
    "            \n",
    "            tecnico_asignado = techs_con_carga[0][0]\n",
    "            carga_tecnicos[tecnico_asignado] += job['duracion_horas']\n",
    "            \n",
    "            asignaciones.append({\n",
    "                'job_id': job_id,\n",
    "                'tecnico_id': tecnico_asignado,\n",
    "                'duracion_horas': job['duracion_horas']\n",
    "            })\n",
    "    \n",
    "    return pd.DataFrame(asignaciones), carga_tecnicos"
   ]
  },
  {
   "cell_type": "markdown",
   "id": "7ba3c4b4",
   "metadata": {},
   "source": [
    "CARGA DE DATOS POR COMPARACION"
   ]
  },
  {
   "cell_type": "code",
   "execution_count": 14,
   "id": "69cdfd7d",
   "metadata": {},
   "outputs": [
    {
     "name": "stdout",
     "output_type": "stream",
     "text": [
      "\n",
      "🔍 COMPARACIÓN CON MÉTODOS BASELINE\n"
     ]
    }
   ],
   "source": [
    "jobs = pd.read_csv(os.path.join(BASE_DIR, \"data\", \"clean\", \"jobs_clean.csv\"))\n",
    "tecnicos = pd.read_csv(os.path.join(BASE_DIR, \"data\", \"clean\", \"tecnicos_clean.csv\"))\n",
    "habilidades = pd.read_csv(os.path.join(BASE_DIR, \"data\", \"clean\", \"habilidades_clean.csv\"))\n",
    "\n",
    "print(\"\\n🔍 COMPARACIÓN CON MÉTODOS BASELINE\")"
   ]
  },
  {
   "cell_type": "markdown",
   "id": "3097e565",
   "metadata": {},
   "source": [
    "OBTENER NOMBRES DE COLUMNAS PARA ASIGNACIONES BASE"
   ]
  },
  {
   "cell_type": "code",
   "execution_count": 15,
   "id": "3cc1c140",
   "metadata": {},
   "outputs": [],
   "source": [
    "col_tecnico_asign = obtener_nombre_columna(asignaciones_base, ['Id_tecnico', 'id_tecnico', 'tecnico_id'])"
   ]
  },
  {
   "cell_type": "markdown",
   "id": "3ab33c57",
   "metadata": {},
   "source": [
    "METODO ALEATORIO"
   ]
  },
  {
   "cell_type": "code",
   "execution_count": 16,
   "id": "93e300fd",
   "metadata": {},
   "outputs": [
    {
     "name": "stdout",
     "output_type": "stream",
     "text": [
      "1. Asignación Aleatoria:\n",
      "   Carga máxima: 33.0h\n",
      "   Trabajos asignados: 30/30\n"
     ]
    }
   ],
   "source": [
    "print(\"1. Asignación Aleatoria:\")\n",
    "df_aleatorio = asignacion_aleatoria(jobs, tecnicos, habilidades)\n",
    "carga_max_aleatoria = df_aleatorio.groupby('tecnico_id')['duracion_horas'].sum().max()\n",
    "print(f\"   Carga máxima: {carga_max_aleatoria:.1f}h\")\n",
    "print(f\"   Trabajos asignados: {len(df_aleatorio)}/{len(jobs)}\")"
   ]
  },
  {
   "cell_type": "markdown",
   "id": "a97e161f",
   "metadata": {},
   "source": [
    "Método greedy"
   ]
  },
  {
   "cell_type": "code",
   "execution_count": 17,
   "id": "6a2746bd",
   "metadata": {},
   "outputs": [
    {
     "name": "stdout",
     "output_type": "stream",
     "text": [
      "2. Asignación Greedy:\n",
      "   Carga máxima: 26.0h\n",
      "   Trabajos asignados: 30/30\n"
     ]
    }
   ],
   "source": [
    "print(\"2. Asignación Greedy:\")\n",
    "df_greedy, cargas_greedy = asignacion_greedy(jobs, tecnicos, habilidades)\n",
    "carga_max_greedy = max(cargas_greedy.values()) if cargas_greedy else 0\n",
    "print(f\"   Carga máxima: {carga_max_greedy:.1f}h\")\n",
    "print(f\"   Trabajos asignados: {len(df_greedy)}/{len(jobs)}\")"
   ]
  },
  {
   "cell_type": "markdown",
   "id": "eca6a4ee",
   "metadata": {},
   "source": [
    "Nuestro método óptimo"
   ]
  },
  {
   "cell_type": "code",
   "execution_count": 18,
   "id": "0cc1be2e",
   "metadata": {},
   "outputs": [
    {
     "name": "stdout",
     "output_type": "stream",
     "text": [
      "3. Nuestro Método (Óptimo):\n",
      "   Carga máxima: 16.0h\n",
      "   Trabajos asignados: 30/30\n"
     ]
    }
   ],
   "source": [
    "print(\"3. Nuestro Método (Óptimo):\")\n",
    "if col_tecnico_asign and col_tecnico_asign in asignaciones_base.columns:\n",
    "    carga_max_optima = asignaciones_base.groupby(col_tecnico_asign)['duracion_horas'].sum().max()\n",
    "else:\n",
    "    carga_max_optima = 0\n",
    "\n",
    "print(f\"   Carga máxima: {carga_max_optima:.1f}h\")\n",
    "print(f\"   Trabajos asignados: {len(asignaciones_base)}/{len(jobs)}\")\n"
   ]
  },
  {
   "cell_type": "markdown",
   "id": "7a53d49f",
   "metadata": {},
   "source": [
    "GUARDA DE COMPARACIONES"
   ]
  },
  {
   "cell_type": "code",
   "execution_count": 19,
   "id": "3c655f70",
   "metadata": {},
   "outputs": [],
   "source": [
    "comparacion = {\n",
    "    'metodo': ['Aleatorio', 'Greedy', 'Óptimo'],\n",
    "    'carga_maxima': [carga_max_aleatoria, carga_max_greedy, carga_max_optima],\n",
    "    'trabajos_asignados': [len(df_aleatorio), len(df_greedy), len(asignaciones_base)],\n",
    "    'completitud': [len(df_aleatorio)/len(jobs), len(df_greedy)/len(jobs), len(asignaciones_base)/len(jobs)]\n",
    "}\n",
    "\n",
    "df_comparacion = pd.DataFrame(comparacion)\n",
    "df_comparacion.to_csv(os.path.join(BASE_DIR, \"results\", \"comparacion_metodos.csv\"), index=False)"
   ]
  },
  {
   "cell_type": "markdown",
   "id": "41ea9621",
   "metadata": {},
   "source": [
    "5. Visualizaciones GRAFICOS DE COMPARACIONES DE METODOS"
   ]
  },
  {
   "cell_type": "code",
   "execution_count": 20,
   "id": "a28633d3",
   "metadata": {},
   "outputs": [
    {
     "data": {
      "image/png": "[encoded data removed]",
      "text/plain": [
       "<Figure size 1000x600 with 1 Axes>"
      ]
     },
     "metadata": {},
     "output_type": "display_data"
    }
   ],
   "source": [
    "plt.figure(figsize=(10, 6))\n",
    "plt.bar(df_comparacion['metodo'], df_comparacion['carga_maxima'], color=['red', 'orange', 'green'])\n",
    "plt.title('Comparación de Carga Máxima por Método')\n",
    "plt.ylabel('Horas')\n",
    "plt.grid(axis='y', alpha=0.3)\n",
    "plt.tight_layout()\n",
    "plt.savefig(os.path.join(BASE_DIR, \"results\", \"comparacion_carga_maxima.png\"), dpi=300, bbox_inches='tight')\n",
    "plt.show()"
   ]
  },
  {
   "cell_type": "markdown",
   "id": "a5021463",
   "metadata": {},
   "source": [
    "GRAFICOS DE SENSIBILIDAD"
   ]
  },
  {
   "cell_type": "code",
   "execution_count": 21,
   "id": "03d513f6",
   "metadata": {},
   "outputs": [
    {
     "data": {
      "image/png": "[encoded data removed]",
      "text/plain": [
       "<Figure size 1000x600 with 1 Axes>"
      ]
     },
     "metadata": {},
     "output_type": "display_data"
    }
   ],
   "source": [
    "plt.figure(figsize=(10, 6))\n",
    "plt.plot(df_sensibilidad['variacion'], df_sensibilidad['utilizacion_modificada'], 'o-', linewidth=2)\n",
    "plt.axhline(y=df_sensibilidad['utilizacion_original'].iloc[2], color='r', linestyle='--', alpha=0.7, label='Original')\n",
    "plt.title('Sensibilidad: Variación de Duraciones vs Utilización')\n",
    "plt.xlabel('Variación de Duraciones (%)')\n",
    "plt.ylabel('Utilización de Capacidad (%)')\n",
    "plt.grid(alpha=0.3)\n",
    "plt.legend()\n",
    "plt.tight_layout()\n",
    "plt.savefig(os.path.join(BASE_DIR, \"results\", \"sensibilidad_utilizacion.png\"), dpi=300, bbox_inches='tight')\n",
    "plt.show()"
   ]
  },
  {
   "cell_type": "markdown",
   "id": "2e0c3f35",
   "metadata": {},
   "source": [
    "Gráfico de impacto por ausencia"
   ]
  },
  {
   "cell_type": "code",
   "execution_count": 22,
   "id": "1a078951",
   "metadata": {},
   "outputs": [
    {
     "data": {
      "image/png": "[encoded data removed]",
      "text/plain": [
       "<Figure size 1200x600 with 1 Axes>"
      ]
     },
     "metadata": {},
     "output_type": "display_data"
    }
   ],
   "source": [
    "plt.figure(figsize=(12, 6))\n",
    "bars = plt.bar(df_ausencia['tecnico_ausente'], df_ausencia['horas_afectadas'], color='lightcoral')\n",
    "plt.title('Impacto por Ausencia de Técnico')\n",
    "plt.xlabel('Técnico Ausente')\n",
    "plt.ylabel('Horas Afectadas')\n",
    "plt.grid(axis='y', alpha=0.3)\n",
    "\n",
    "# Añadir valores en las barras\n",
    "for bar, horas in zip(bars, df_ausencia['horas_afectadas']):\n",
    "    plt.text(bar.get_x() + bar.get_width()/2, bar.get_height() + 0.5, f'{horas:.1f}h', \n",
    "             ha='center', va='bottom')\n",
    "\n",
    "plt.tight_layout()\n",
    "plt.savefig(os.path.join(BASE_DIR, \"results\", \"impacto_ausencias.png\"), dpi=300, bbox_inches='tight')\n",
    "plt.show()"
   ]
  },
  {
   "cell_type": "markdown",
   "id": "601f470a",
   "metadata": {},
   "source": [
    "RESUMEN EJECUTIVO"
   ]
  },
  {
   "cell_type": "code",
   "execution_count": 23,
   "id": "c341a677",
   "metadata": {},
   "outputs": [
    {
     "name": "stdout",
     "output_type": "stream",
     "text": [
      "\n",
      "============================================================\n",
      " RESUMEN EJECUTIVO - ANÁLISIS DE SENSIBILIDAD\n",
      "============================================================\n",
      "\n",
      " SENSIBILIDAD A DURACIONES:\n",
      "   Variación ±20% afecta utilización en ±2.4%\n",
      "\n",
      " RIESGO POR AUSENCIAS:\n",
      "   Técnico con mayor impacto: T1 (16.0h)\n",
      "\n",
      " COMPARACIÓN DE MÉTODOS:\n",
      "   Mejor método: Óptimo (16.0h)\n",
      "   Mejora vs aleatorio: 51.5%\n",
      "\n",
      " RECOMENDACIONES:\n",
      "   1. Mantener buffer del 10-15% para variaciones en duraciones\n",
      "   2. Implementar cross-training para reducir dependencia de técnicos clave\n",
      "   3. Usar método óptimo para asignaciones regulares\n",
      "\n",
      " Análisis completado. Resultados guardados en /results/\n"
     ]
    }
   ],
   "source": [
    "print(\"\\n\" + \"=\"*60)\n",
    "print(\" RESUMEN EJECUTIVO - ANÁLISIS DE SENSIBILIDAD\")\n",
    "print(\"=\"*60)\n",
    "\n",
    "print(f\"\\n SENSIBILIDAD A DURACIONES:\")\n",
    "if len(df_sensibilidad) >= 5:\n",
    "    variacion_utilizacion = abs(df_sensibilidad['utilizacion_modificada'].iloc[0] - df_sensibilidad['utilizacion_modificada'].iloc[4])\n",
    "    print(f\"   Variación ±20% afecta utilización en ±{variacion_utilizacion:.1f}%\")\n",
    "\n",
    "print(f\"\\n RIESGO POR AUSENCIAS:\")\n",
    "if not df_ausencia.empty:\n",
    "    tecnico_max_impacto = df_ausencia.loc[df_ausencia['horas_afectadas'].idxmax()]\n",
    "    print(f\"   Técnico con mayor impacto: {tecnico_max_impacto['tecnico_ausente']} ({tecnico_max_impacto['horas_afectadas']:.1f}h)\")\n",
    "\n",
    "print(f\"\\n COMPARACIÓN DE MÉTODOS:\")\n",
    "if not df_comparacion.empty:\n",
    "    mejor_metodo = df_comparacion.loc[df_comparacion['carga_maxima'].idxmin()]\n",
    "    print(f\"   Mejor método: {mejor_metodo['metodo']} ({mejor_metodo['carga_maxima']:.1f}h)\")\n",
    "    if carga_max_aleatoria > 0:\n",
    "        mejora = ((carga_max_aleatoria - mejor_metodo['carga_maxima']) / carga_max_aleatoria * 100)\n",
    "        print(f\"   Mejora vs aleatorio: {mejora:.1f}%\")\n",
    "\n",
    "print(f\"\\n RECOMENDACIONES:\")\n",
    "print(\"   1. Mantener buffer del 10-15% para variaciones en duraciones\")\n",
    "print(\"   2. Implementar cross-training para reducir dependencia de técnicos clave\")\n",
    "print(\"   3. Usar método óptimo para asignaciones regulares\")\n",
    "\n",
    "print(\"\\n Análisis completado. Resultados guardados en /results/\")"
   ]
  }
 ],
 "metadata": {
  "kernelspec": {
   "display_name": "Python 3",
   "language": "python",
   "name": "python3"
  },
  "language_info": {
   "codemirror_mode": {
    "name": "ipython",
    "version": 3
   },
   "file_extension": ".py",
   "mimetype": "text/x-python",
   "name": "python",
   "nbconvert_exporter": "python",
   "pygments_lexer": "ipython3",
   "version": "3.11.9"
  }
 },
 "nbformat": 4,
 "nbformat_minor": 5
}
