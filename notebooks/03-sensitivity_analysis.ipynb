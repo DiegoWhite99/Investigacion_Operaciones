{
 "cells": [
  {
   "cell_type": "markdown",
   "id": "1f497898",
   "metadata": {},
   "source": [
    "########## INICIO FASE 7 ##############"
   ]
  },
  {
   "cell_type": "markdown",
   "id": "341ce988",
   "metadata": {},
   "source": [
    "Librerias\n"
   ]
  },
  {
   "cell_type": "code",
   "execution_count": null,
   "id": "0e3428c1",
   "metadata": {},
   "outputs": [],
   "source": [
    "import pandas as pd\n",
    "import numpy as np\n",
    "import matplotlib.pyplot as plt\n",
    "import seaborn as sns\n",
    "from datetime import datetime\n",
    "import pulp\n",
    "import os"
   ]
  },
  {
   "cell_type": "markdown",
   "id": "4252348e",
   "metadata": {},
   "source": [
    "Configuraciones\n"
   ]
  },
  {
   "cell_type": "code",
   "execution_count": null,
   "id": "b38f595b",
   "metadata": {},
   "outputs": [],
   "source": [
    "plt.style.use('default')\n",
    "sns.set_palette(\"Set2\")\n",
    "BASE_DIR = os.path.dirname(os.getcwd())"
   ]
  },
  {
   "cell_type": "code",
   "execution_count": null,
   "id": "dbee8bc2",
   "metadata": {},
   "outputs": [],
   "source": [
    "print(\"=== ANÁLISIS DE SENSIBILIDAD Y COMPARACIÓN ===\")\n",
    "print(f\"Ejecutado: {datetime.now()}\")"
   ]
  },
  {
   "cell_type": "markdown",
   "id": "9c8250e8",
   "metadata": {},
   "source": [
    "FUNCION PARA MEJORAR NOMBRE DE COLUMNAS"
   ]
  },
  {
   "cell_type": "code",
   "execution_count": null,
   "id": "9cebb3d6",
   "metadata": {},
   "outputs": [],
   "source": [
    "def obtener_nombre_columna(df, nombres_posibles):\n",
    "    \"\"\"Obtener el nombre correcto de la columna\"\"\"\n",
    "    for nombre in nombres_posibles:\n",
    "        if nombre in df.columns:\n",
    "            return nombre\n",
    "    return None"
   ]
  },
  {
   "cell_type": "markdown",
   "id": "994f24bc",
   "metadata": {},
   "source": [
    "CARGANDO DATOS EXISTENTES"
   ]
  },
  {
   "cell_type": "markdown",
   "id": "5c2a301d",
   "metadata": {},
   "source": [
    "CARGA DE DATOS"
   ]
  },
  {
   "cell_type": "code",
   "execution_count": null,
   "id": "cb162d84",
   "metadata": {},
   "outputs": [],
   "source": [
    "results_path = os.path.join(BASE_DIR, \"results\", \"assignment_results.csv\")\n",
    "schedule_path = os.path.join(BASE_DIR, \"results\", \"schedule_detailed.csv\")\n",
    "\n",
    "asignaciones_base = pd.read_csv(results_path)\n",
    "schedule_base = pd.read_csv(schedule_path) if os.path.exists(schedule_path) else None"
   ]
  }
 ],
 "metadata": {
  "kernelspec": {
   "display_name": "Python 3",
   "language": "python",
   "name": "python3"
  },
  "language_info": {
   "codemirror_mode": {
    "name": "ipython",
    "version": 3
   },
   "file_extension": ".py",
   "mimetype": "text/x-python",
   "name": "python",
   "nbconvert_exporter": "python",
   "pygments_lexer": "ipython3",
   "version": "3.11.9"
  }
 },
 "nbformat": 4,
 "nbformat_minor": 5
}
